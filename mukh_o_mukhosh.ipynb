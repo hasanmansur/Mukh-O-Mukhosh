{
 "cells": [
  {
   "cell_type": "markdown",
   "metadata": {},
   "source": [
    "# Mukh O Mukhosh, the face mask detector"
   ]
  },
  {
   "cell_type": "code",
   "execution_count": 1,
   "metadata": {},
   "outputs": [],
   "source": [
    "import torch\n",
    "import torch.nn as nn\n",
    "import torch.nn.functional as F\n",
    "from torch.utils.data import DataLoader\n",
    "from torchvision import datasets, transforms\n",
    "import numpy as np\n",
    "import pandas as pd\n",
    "import matplotlib.pyplot as plt\n",
    "%matplotlib inline\n",
    "from PIL import Image\n",
    "import os"
   ]
  },
  {
   "cell_type": "markdown",
   "metadata": {},
   "source": [
    "## check gpu/cuda availability"
   ]
  },
  {
   "cell_type": "code",
   "execution_count": 2,
   "metadata": {},
   "outputs": [
    {
     "data": {
      "text/plain": [
       "True"
      ]
     },
     "execution_count": 2,
     "metadata": {},
     "output_type": "execute_result"
    }
   ],
   "source": [
    "torch.cuda.is_available()"
   ]
  },
  {
   "cell_type": "code",
   "execution_count": 3,
   "metadata": {},
   "outputs": [
    {
     "data": {
      "text/plain": [
       "0"
      ]
     },
     "execution_count": 3,
     "metadata": {},
     "output_type": "execute_result"
    }
   ],
   "source": [
    "torch.cuda.current_device()"
   ]
  },
  {
   "cell_type": "code",
   "execution_count": 4,
   "metadata": {},
   "outputs": [
    {
     "data": {
      "text/plain": [
       "'GeForce MX150'"
      ]
     },
     "execution_count": 4,
     "metadata": {},
     "output_type": "execute_result"
    }
   ],
   "source": [
    "torch.cuda.get_device_name()"
   ]
  },
  {
   "cell_type": "markdown",
   "metadata": {},
   "source": [
    "## read dataset "
   ]
  },
  {
   "cell_type": "code",
   "execution_count": 5,
   "metadata": {},
   "outputs": [],
   "source": [
    "root_path = \"./data\""
   ]
  },
  {
   "cell_type": "code",
   "execution_count": 6,
   "metadata": {},
   "outputs": [],
   "source": [
    "train_data_path = os.path.join(root_path, \"train\")\n",
    "val_data_path = os.path.join(root_path, \"val\")"
   ]
  },
  {
   "cell_type": "code",
   "execution_count": 7,
   "metadata": {},
   "outputs": [],
   "source": [
    "#print(train_data_path)\n",
    "#print(val_data_path)"
   ]
  },
  {
   "cell_type": "code",
   "execution_count": 8,
   "metadata": {},
   "outputs": [],
   "source": [
    "img_dim = 224\n",
    "transform = transforms.Compose([\n",
    "    transforms.RandomResizedCrop(img_dim),\n",
    "    transforms.ToTensor()\n",
    "])"
   ]
  },
  {
   "cell_type": "code",
   "execution_count": 9,
   "metadata": {},
   "outputs": [],
   "source": [
    "train_data = datasets.ImageFolder(train_data_path, transform)\n",
    "val_data = datasets.ImageFolder(val_data_path, transform)"
   ]
  },
  {
   "cell_type": "code",
   "execution_count": 10,
   "metadata": {},
   "outputs": [],
   "source": [
    "#print(train_data)\n",
    "#print(val_data)"
   ]
  },
  {
   "cell_type": "code",
   "execution_count": 11,
   "metadata": {},
   "outputs": [
    {
     "data": {
      "text/plain": [
       "['with_mask', 'without_mask']"
      ]
     },
     "execution_count": 11,
     "metadata": {},
     "output_type": "execute_result"
    }
   ],
   "source": [
    "train_data.classes"
   ]
  },
  {
   "cell_type": "code",
   "execution_count": 12,
   "metadata": {},
   "outputs": [
    {
     "data": {
      "text/plain": [
       "{'with_mask': 0, 'without_mask': 1}"
      ]
     },
     "execution_count": 12,
     "metadata": {},
     "output_type": "execute_result"
    }
   ],
   "source": [
    "train_data.class_to_idx"
   ]
  },
  {
   "cell_type": "code",
   "execution_count": 13,
   "metadata": {},
   "outputs": [],
   "source": [
    "#train_data.imgs"
   ]
  },
  {
   "cell_type": "markdown",
   "metadata": {},
   "source": [
    "## train data analysis using Pandas"
   ]
  },
  {
   "cell_type": "code",
   "execution_count": 14,
   "metadata": {},
   "outputs": [],
   "source": [
    "df = pd.DataFrame(train_data.imgs)"
   ]
  },
  {
   "cell_type": "code",
   "execution_count": 15,
   "metadata": {},
   "outputs": [
    {
     "data": {
      "text/html": [
       "<div>\n",
       "<style scoped>\n",
       "    .dataframe tbody tr th:only-of-type {\n",
       "        vertical-align: middle;\n",
       "    }\n",
       "\n",
       "    .dataframe tbody tr th {\n",
       "        vertical-align: top;\n",
       "    }\n",
       "\n",
       "    .dataframe thead th {\n",
       "        text-align: right;\n",
       "    }\n",
       "</style>\n",
       "<table border=\"1\" class=\"dataframe\">\n",
       "  <thead>\n",
       "    <tr style=\"text-align: right;\">\n",
       "      <th></th>\n",
       "      <th>0</th>\n",
       "      <th>1</th>\n",
       "    </tr>\n",
       "  </thead>\n",
       "  <tbody>\n",
       "    <tr>\n",
       "      <td>0</td>\n",
       "      <td>./data/train/with_mask/-110603108-gettyimages-...</td>\n",
       "      <td>0</td>\n",
       "    </tr>\n",
       "    <tr>\n",
       "      <td>1</td>\n",
       "      <td>./data/train/with_mask/-110695084-mask2.jpg</td>\n",
       "      <td>0</td>\n",
       "    </tr>\n",
       "    <tr>\n",
       "      <td>2</td>\n",
       "      <td>./data/train/with_mask/0-with-mask.jpg</td>\n",
       "      <td>0</td>\n",
       "    </tr>\n",
       "    <tr>\n",
       "      <td>3</td>\n",
       "      <td>./data/train/with_mask/0000305-62360-halyard-h...</td>\n",
       "      <td>0</td>\n",
       "    </tr>\n",
       "    <tr>\n",
       "      <td>4</td>\n",
       "      <td>./data/train/with_mask/0000444-48296-halyard-h...</td>\n",
       "      <td>0</td>\n",
       "    </tr>\n",
       "  </tbody>\n",
       "</table>\n",
       "</div>"
      ],
      "text/plain": [
       "                                                   0  1\n",
       "0  ./data/train/with_mask/-110603108-gettyimages-...  0\n",
       "1        ./data/train/with_mask/-110695084-mask2.jpg  0\n",
       "2             ./data/train/with_mask/0-with-mask.jpg  0\n",
       "3  ./data/train/with_mask/0000305-62360-halyard-h...  0\n",
       "4  ./data/train/with_mask/0000444-48296-halyard-h...  0"
      ]
     },
     "execution_count": 15,
     "metadata": {},
     "output_type": "execute_result"
    }
   ],
   "source": [
    "df.head()"
   ]
  },
  {
   "cell_type": "code",
   "execution_count": 16,
   "metadata": {},
   "outputs": [],
   "source": [
    "#df[0].describe()"
   ]
  },
  {
   "cell_type": "code",
   "execution_count": 17,
   "metadata": {},
   "outputs": [],
   "source": [
    "def image_size(img):\n",
    "    with Image.open(img) as im:\n",
    "        return im.size\n",
    "\n",
    "img_sizes = [image_size(img[0]) for img in train_data.imgs]"
   ]
  },
  {
   "cell_type": "code",
   "execution_count": 18,
   "metadata": {},
   "outputs": [],
   "source": [
    "df_image_sizes = pd.DataFrame(img_sizes)"
   ]
  },
  {
   "cell_type": "code",
   "execution_count": 19,
   "metadata": {},
   "outputs": [],
   "source": [
    "#df_image_sizes"
   ]
  },
  {
   "cell_type": "code",
   "execution_count": 20,
   "metadata": {},
   "outputs": [
    {
     "data": {
      "text/plain": [
       "count    1314.000000\n",
       "mean      397.927702\n",
       "std       326.431366\n",
       "min       110.000000\n",
       "25%       260.000000\n",
       "50%       320.000000\n",
       "75%       349.750000\n",
       "max      3456.000000\n",
       "Name: 0, dtype: float64"
      ]
     },
     "execution_count": 20,
     "metadata": {},
     "output_type": "execute_result"
    }
   ],
   "source": [
    "df_image_sizes[0].describe()"
   ]
  },
  {
   "cell_type": "markdown",
   "metadata": {},
   "source": [
    "## data loading"
   ]
  },
  {
   "cell_type": "code",
   "execution_count": 21,
   "metadata": {},
   "outputs": [],
   "source": [
    "train_loader = DataLoader(train_data, batch_size=10, shuffle=True, pin_memory=True)\n",
    "val_loader = DataLoader(val_data, batch_size=142, shuffle=True, pin_memory=True)"
   ]
  },
  {
   "cell_type": "markdown",
   "metadata": {},
   "source": [
    "## convolutional model"
   ]
  },
  {
   "cell_type": "code",
   "execution_count": 22,
   "metadata": {},
   "outputs": [],
   "source": [
    "in_channels = 3\n",
    "num_filters = [6,16]\n",
    "filter_dim = 3\n",
    "stride = 1\n",
    "\n",
    "x = int((((img_dim - 2)/2) - 2)/2)\n",
    "fc1_in_features = x*x*num_filters[1]\n",
    "#fc1_in_features = 61*61*16\n",
    "fc1_out_features = 120\n",
    "fc2_out_features = 84\n",
    "out_features = 2\n",
    "\n",
    "class FaceMaskDetectorModel(nn.Module):\n",
    "    def __init__(self):\n",
    "        super().__init__()\n",
    "        self.conv1 = nn.Conv2d(in_channels, num_filters[0], filter_dim, stride)\n",
    "        #self.conv1 = nn.Conv2d(3, 6, 3, 1)\n",
    "        self.conv2 = nn.Conv2d(num_filters[0], num_filters[1], filter_dim, stride)\n",
    "        #self.conv2 = nn.Conv2d(6, 16, 3, 1)\n",
    "        self.fc1 = nn.Linear(fc1_in_features, fc1_out_features)\n",
    "        #self.fc1 = nn.Linear(61*61*16, 120)\n",
    "        self.fc2 = nn.Linear(fc1_out_features, fc2_out_features)\n",
    "        #self.fc2 = nn.Linear(120, 84)\n",
    "        self.fc3 = nn.Linear(fc2_out_features,out_features)\n",
    "        #self.fc3 = nn.Linear(84,2)\n",
    "\n",
    "    def forward(self, X):\n",
    "        X = F.relu(self.conv1(X))\n",
    "        X = F.max_pool2d(X, 2, 2)\n",
    "        X = F.relu(self.conv2(X))\n",
    "        X = F.max_pool2d(X, 2, 2)\n",
    "        X = X.view(-1, fc1_in_features)\n",
    "        #X = X.view(-1, 61*61*16)\n",
    "        X = F.relu(self.fc1(X))\n",
    "        X = F.relu(self.fc2(X))\n",
    "        X = self.fc3(X)\n",
    "        return F.log_softmax(X, dim=1)"
   ]
  },
  {
   "cell_type": "code",
   "execution_count": 23,
   "metadata": {},
   "outputs": [
    {
     "data": {
      "text/plain": [
       "FaceMaskDetectorModel(\n",
       "  (conv1): Conv2d(3, 6, kernel_size=(3, 3), stride=(1, 1))\n",
       "  (conv2): Conv2d(6, 16, kernel_size=(3, 3), stride=(1, 1))\n",
       "  (fc1): Linear(in_features=46656, out_features=120, bias=True)\n",
       "  (fc2): Linear(in_features=120, out_features=84, bias=True)\n",
       "  (fc3): Linear(in_features=84, out_features=2, bias=True)\n",
       ")"
      ]
     },
     "execution_count": 23,
     "metadata": {},
     "output_type": "execute_result"
    }
   ],
   "source": [
    "torch.manual_seed(42)\n",
    "model = FaceMaskDetectorModel()\n",
    "model"
   ]
  },
  {
   "cell_type": "code",
   "execution_count": 24,
   "metadata": {},
   "outputs": [],
   "source": [
    "gpumodel = model.cuda()"
   ]
  },
  {
   "cell_type": "markdown",
   "metadata": {},
   "source": [
    "## loss function & optimizer"
   ]
  },
  {
   "cell_type": "code",
   "execution_count": 25,
   "metadata": {},
   "outputs": [],
   "source": [
    "criterion = nn.CrossEntropyLoss()\n",
    "optimizer = torch.optim.Adam(model.parameters(), lr=0.001)"
   ]
  },
  {
   "cell_type": "markdown",
   "metadata": {},
   "source": [
    "## training"
   ]
  },
  {
   "cell_type": "code",
   "execution_count": 26,
   "metadata": {},
   "outputs": [
    {
     "name": "stdout",
     "output_type": "stream",
     "text": [
      "------------------------epoch 0-------------------------\n",
      "train --> batch: 22[220/1314], loss: 0.6792010068893433, accuracy: 60.45454545454545\n",
      "train --> batch: 44[440/1314], loss: 0.3282117247581482, accuracy: 67.04545454545455\n",
      "train --> batch: 66[660/1314], loss: 0.5378652811050415, accuracy: 69.39393939393939\n",
      "train --> batch: 88[880/1314], loss: 0.45988672971725464, accuracy: 72.95454545454545\n",
      "train --> batch: 110[1100/1314], loss: 0.2282264232635498, accuracy: 75.9090909090909\n",
      "train --> batch: 132[1314/1314], loss: 0.31383147835731506, accuracy: 77.54946727549468\n",
      "valid --> batch: 1[142/142], loss: 0.3078881502151489, accuracy: 86.61971830985915\n",
      "------------------------epoch 1-------------------------\n",
      "train --> batch: 22[220/1314], loss: 0.3581159710884094, accuracy: 87.27272727272727\n",
      "train --> batch: 44[440/1314], loss: 0.1716790795326233, accuracy: 85.68181818181819\n",
      "train --> batch: 66[660/1314], loss: 0.29850709438323975, accuracy: 86.21212121212122\n",
      "train --> batch: 88[880/1314], loss: 0.4337240159511566, accuracy: 86.70454545454545\n",
      "train --> batch: 110[1100/1314], loss: 0.2644224464893341, accuracy: 86.0909090909091\n",
      "train --> batch: 132[1314/1314], loss: 0.07821294665336609, accuracy: 86.0730593607306\n",
      "valid --> batch: 1[142/142], loss: 0.25814878940582275, accuracy: 91.54929577464789\n",
      "------------------------epoch 2-------------------------\n",
      "train --> batch: 22[220/1314], loss: 0.17199166119098663, accuracy: 85.45454545454545\n",
      "train --> batch: 44[440/1314], loss: 0.5405614972114563, accuracy: 87.72727272727273\n",
      "train --> batch: 66[660/1314], loss: 0.20138561725616455, accuracy: 87.12121212121212\n",
      "train --> batch: 88[880/1314], loss: 0.08858980983495712, accuracy: 87.27272727272727\n",
      "train --> batch: 110[1100/1314], loss: 0.12909656763076782, accuracy: 87.81818181818181\n",
      "train --> batch: 132[1314/1314], loss: 1.2418427467346191, accuracy: 87.97564687975647\n",
      "valid --> batch: 1[142/142], loss: 0.2528228163719177, accuracy: 90.14084507042253\n",
      "------------------------epoch 3-------------------------\n",
      "train --> batch: 22[220/1314], loss: 0.16386869549751282, accuracy: 80.9090909090909\n",
      "train --> batch: 44[440/1314], loss: 0.48872166872024536, accuracy: 83.4090909090909\n",
      "train --> batch: 66[660/1314], loss: 0.49965810775756836, accuracy: 85.3030303030303\n",
      "train --> batch: 88[880/1314], loss: 0.27127107977867126, accuracy: 85.79545454545455\n",
      "train --> batch: 110[1100/1314], loss: 0.236553356051445, accuracy: 86.0\n",
      "train --> batch: 132[1314/1314], loss: 0.27498653531074524, accuracy: 86.5296803652968\n",
      "valid --> batch: 1[142/142], loss: 0.2976490557193756, accuracy: 87.32394366197182\n",
      "------------------------epoch 4-------------------------\n",
      "train --> batch: 22[220/1314], loss: 0.15214872360229492, accuracy: 88.63636363636364\n",
      "train --> batch: 44[440/1314], loss: 0.2924160063266754, accuracy: 89.31818181818181\n",
      "train --> batch: 66[660/1314], loss: 0.07323049008846283, accuracy: 90.15151515151516\n",
      "train --> batch: 88[880/1314], loss: 0.7722843885421753, accuracy: 89.20454545454545\n",
      "train --> batch: 110[1100/1314], loss: 0.08325053751468658, accuracy: 89.18181818181819\n",
      "train --> batch: 132[1314/1314], loss: 0.30672532320022583, accuracy: 88.50837138508372\n",
      "valid --> batch: 1[142/142], loss: 0.27864593267440796, accuracy: 88.73239436619718\n",
      "------------------------epoch 5-------------------------\n",
      "train --> batch: 22[220/1314], loss: 0.3170263171195984, accuracy: 86.36363636363636\n",
      "train --> batch: 44[440/1314], loss: 0.3126443326473236, accuracy: 88.63636363636364\n",
      "train --> batch: 66[660/1314], loss: 0.44527825713157654, accuracy: 88.03030303030303\n",
      "train --> batch: 88[880/1314], loss: 0.10393480956554413, accuracy: 87.8409090909091\n",
      "train --> batch: 110[1100/1314], loss: 0.03314654529094696, accuracy: 87.81818181818181\n",
      "train --> batch: 132[1314/1314], loss: 0.5879807472229004, accuracy: 88.0517503805175\n",
      "valid --> batch: 1[142/142], loss: 0.18755854666233063, accuracy: 92.25352112676056\n",
      "------------------------epoch 6-------------------------\n",
      "train --> batch: 22[220/1314], loss: 0.3088448643684387, accuracy: 88.18181818181819\n",
      "train --> batch: 44[440/1314], loss: 0.0436120331287384, accuracy: 88.63636363636364\n",
      "train --> batch: 66[660/1314], loss: 0.21803469955921173, accuracy: 89.0909090909091\n",
      "train --> batch: 88[880/1314], loss: 0.16197408735752106, accuracy: 88.4090909090909\n",
      "train --> batch: 110[1100/1314], loss: 0.5208330154418945, accuracy: 88.27272727272727\n",
      "train --> batch: 132[1314/1314], loss: 0.10707598179578781, accuracy: 88.28006088280061\n",
      "valid --> batch: 1[142/142], loss: 0.3005789816379547, accuracy: 88.73239436619718\n",
      "------------------------epoch 7-------------------------\n",
      "train --> batch: 22[220/1314], loss: 0.63942950963974, accuracy: 87.27272727272727\n",
      "train --> batch: 44[440/1314], loss: 0.13503538072109222, accuracy: 87.95454545454545\n",
      "train --> batch: 66[660/1314], loss: 0.12407626956701279, accuracy: 88.63636363636364\n",
      "train --> batch: 88[880/1314], loss: 0.18004010617733002, accuracy: 88.18181818181819\n",
      "train --> batch: 110[1100/1314], loss: 0.22108495235443115, accuracy: 87.27272727272727\n",
      "train --> batch: 132[1314/1314], loss: 0.3770221471786499, accuracy: 87.3668188736682\n",
      "valid --> batch: 1[142/142], loss: 0.20757856965065002, accuracy: 91.54929577464789\n",
      "\n",
      "Duration: 114 seconds\n"
     ]
    }
   ],
   "source": [
    "import time\n",
    "start_time = time.time()\n",
    "\n",
    "epochs = 8\n",
    "train_losses = []\n",
    "val_losses = []\n",
    "train_accuracies = []\n",
    "val_accuracies = []\n",
    "\n",
    "for i in range(epochs):\n",
    "    trn_total = 0\n",
    "    trn_corr = 0\n",
    "    val_total = 0\n",
    "    val_corr = 0\n",
    "    \n",
    "    print(\"------------------------epoch {epoch}-------------------------\".format(epoch = i))\n",
    "    \n",
    "    # training batches\n",
    "    for b, (x_train, y_train) in enumerate(train_loader):\n",
    "        b+=1\n",
    "        #print(type(x_train))\n",
    "        # prediction & loss calculation\n",
    "        y_pred = gpumodel(x_train.cuda())\n",
    "        loss = criterion(y_pred, y_train.cuda())\n",
    " \n",
    "        # prediction accuracy calculation\n",
    "        predicted = torch.max(y_pred.data, 1)[1]\n",
    "        batch_corr = (predicted == y_train.cuda()).sum()\n",
    "        trn_corr += float(batch_corr)\n",
    "        trn_total += float(x_train.shape[0])\n",
    "        acc = (trn_corr * 100)/trn_total\n",
    "        \n",
    "        # update parameters\n",
    "        optimizer.zero_grad()\n",
    "        loss.backward()\n",
    "        optimizer.step()\n",
    "        \n",
    "        # print after each epoch\n",
    "        if(b%22 == 0):\n",
    "            print(\"train --> batch: {batch}[{train_so_far}/{train_total_size}], loss: {ls}, accuracy: {accuracy}\".format(batch = b, train_so_far = int(trn_total), train_total_size = len(train_data.imgs), ls = loss.item(), accuracy = acc))\n",
    "    \n",
    "    train_losses.append(loss)\n",
    "    train_accuracies.append(acc)\n",
    "    \n",
    "    # validation batches\n",
    "    with torch.no_grad():\n",
    "        for b, (x_val, y_val) in enumerate(val_loader):\n",
    "            b+=1\n",
    "            # prediction & loss calculation\n",
    "            y_pred = gpumodel(x_val.cuda())\n",
    "            loss = criterion(y_pred, y_val.cuda())\n",
    "\n",
    "            # prediction accuracy calculation\n",
    "            predicted = torch.max(y_pred.data, 1)[1] \n",
    "            batch_corr = (predicted == y_val.cuda()).sum()\n",
    "            val_corr += float(batch_corr)\n",
    "            val_total += float(x_val.shape[0])\n",
    "            acc = (val_corr * 100)/val_total\n",
    "            # print after each epoch\n",
    "            print(\"valid --> batch: {batch}[{val_so_far}/{val_total_size}], loss: {ls}, accuracy: {accuracy}\".format(batch = b, val_so_far = int(val_total), val_total_size = len(val_data.imgs), ls = loss.item(), accuracy = acc))\n",
    "    \n",
    "    val_losses.append(loss)\n",
    "    val_accuracies.append(acc)\n",
    "        \n",
    "print(f'\\nDuration: {time.time() - start_time:.0f} seconds') # print the time elapsed"
   ]
  },
  {
   "cell_type": "markdown",
   "metadata": {},
   "source": [
    "## loss and accuracy comparisons"
   ]
  },
  {
   "cell_type": "code",
   "execution_count": 27,
   "metadata": {},
   "outputs": [
    {
     "data": {
      "image/png": "[encoded data removed]",
      "text/plain": [
       "<Figure size 432x288 with 1 Axes>"
      ]
     },
     "metadata": {
      "needs_background": "light"
     },
     "output_type": "display_data"
    }
   ],
   "source": [
    "plt.plot(train_losses, label='training loss')\n",
    "plt.plot(val_losses, label='validation loss')\n",
    "plt.title('loss VS epoch')\n",
    "plt.legend();"
   ]
  },
  {
   "cell_type": "code",
   "execution_count": 28,
   "metadata": {},
   "outputs": [
    {
     "data": {
      "image/png": "[encoded data removed]",
      "text/plain": [
       "<Figure size 432x288 with 1 Axes>"
      ]
     },
     "metadata": {
      "needs_background": "light"
     },
     "output_type": "display_data"
    }
   ],
   "source": [
    "plt.plot(train_accuracies, label='training accuracy')\n",
    "plt.plot(val_accuracies, label='validation accuracy')\n",
    "plt.title('accuracy VS epoch')\n",
    "plt.legend();"
   ]
  }
 ],
 "metadata": {
  "kernelspec": {
   "display_name": "Python 3",
   "language": "python",
   "name": "python3"
  },
  "language_info": {
   "codemirror_mode": {
    "name": "ipython",
    "version": 3
   },
   "file_extension": ".py",
   "mimetype": "text/x-python",
   "name": "python",
   "nbconvert_exporter": "python",
   "pygments_lexer": "ipython3",
   "version": "3.7.4"
  }
 },
 "nbformat": 4,
 "nbformat_minor": 4
}
